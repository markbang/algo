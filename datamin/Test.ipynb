{
 "cells": [
  {
   "cell_type": "code",
   "execution_count": 1,
   "metadata": {
    "trusted": true
   },
   "outputs": [
    {
     "name": "stdout",
     "output_type": "stream",
     "text": "93\nNone\n"
    }
   ],
   "source": [
    "class Node:\n",
    "    def __init__(self, initdata) -> None:\n",
    "        self.data = initdata\n",
    "        self.next = None\n",
    "\n",
    "    def get_data(self):\n",
    "        return self.data\n",
    "\n",
    "    def get_next(self):\n",
    "        return self.next\n",
    "\n",
    "    def set_data(self, new_data):\n",
    "        self.data = new_data\n",
    "\n",
    "    def set_next(self, new_next):\n",
    "        self.next = new_next\n",
    "\n",
    "\n",
    "if __name__ == \"__main__\":\n",
    "    temp = Node(93)\n",
    "    print(temp.get_data())\n",
    "    print(temp.get_next())"
   ]
  },
  {
   "cell_type": "markdown",
   "metadata": {},
   "source": "## 类的相加，以坐标类为例"
  },
  {
   "cell_type": "code",
   "execution_count": 1,
   "metadata": {
    "trusted": true
   },
   "outputs": [
    {
     "name": "stdout",
     "output_type": "stream",
     "text": "Point(6, 1)\n"
    }
   ],
   "source": [
    "class Point:\n",
    "    def __init__(self, x=0, y=0):\n",
    "        self.x = x\n",
    "        self.y = y\n",
    "\n",
    "    def __add__(self, other):\n",
    "        return Point(self.x + other.x, self.y + other.y)\n",
    "\n",
    "    def __str__(self):\n",
    "        return f\"Point({self.x}, {self.y})\"\n",
    "\n",
    "\n",
    "a = Point(2, 3)\n",
    "b = Point(4, -2)\n",
    "print(a + b)"
   ]
  },
  {
   "cell_type": "markdown",
   "metadata": {},
   "source": "## 异序词检测，如heart和earth"
  },
  {
   "cell_type": "code",
   "execution_count": 4,
   "metadata": {
    "trusted": true
   },
   "outputs": [
    {
     "data": {
      "text/plain": "True"
     },
     "execution_count": 4,
     "metadata": {},
     "output_type": "execute_result"
    }
   ],
   "source": [
    "words = (\n",
    "    \"a\",\n",
    "    \"b\",\n",
    "    \"c\",\n",
    "    \"d\",\n",
    "    \"e\",\n",
    "    \"f\",\n",
    "    \"g\",\n",
    "    \"h\",\n",
    "    \"i\",\n",
    "    \"j\",\n",
    "    \"k\",\n",
    "    \"l\",\n",
    "    \"m\",\n",
    "    \"n\",\n",
    "    \"o\",\n",
    "    \"p\",\n",
    "    \"q\",\n",
    "    \"r\",\n",
    "    \"s\",\n",
    "    \"t\",\n",
    "    \"u\",\n",
    "    \"v\",\n",
    "    \"w\",\n",
    "    \"x\",\n",
    "    \"y\",\n",
    "    \"z\",\n",
    ")\n",
    "\n",
    "\n",
    "def check(a_str, b_str):\n",
    "    a_list = [a for a in a_str].sort()\n",
    "    b_list = [b for b in b_str].sort()\n",
    "    return a_list == b_list\n",
    "\n",
    "\n",
    "check(\"heart\", \"earth\")"
   ]
  },
  {
   "cell_type": "markdown",
   "metadata": {},
   "source": "## 递归计算列表数之和"
  },
  {
   "cell_type": "code",
   "execution_count": 5,
   "metadata": {
    "trusted": true
   },
   "outputs": [
    {
     "data": {
      "text/plain": "15"
     },
     "execution_count": 5,
     "metadata": {},
     "output_type": "execute_result"
    }
   ],
   "source": [
    "def sum_num(a_list):\n",
    "    if len(a_list) == 1:\n",
    "        return a_list[0]\n",
    "    return a_list[0] + sum_num(a_list[1:])\n",
    "\n",
    "\n",
    "sum_num([1, 2, 3, 4, 5])"
   ]
  },
  {
   "cell_type": "markdown",
   "metadata": {},
   "source": "## 递归将整数转换成任意进制字符串"
  },
  {
   "cell_type": "code",
   "execution_count": 8,
   "metadata": {
    "trusted": true
   },
   "outputs": [
    {
     "data": {
      "text/plain": "'10100'"
     },
     "execution_count": 8,
     "metadata": {},
     "output_type": "execute_result"
    }
   ],
   "source": [
    "def to_str(num, n):\n",
    "    covert_string = \"0123456789ABCDEF\"\n",
    "    if num < n:  # 终止条件\n",
    "        return covert_string[num]\n",
    "    return to_str(num // n, n) + covert_string[num % n]\n",
    "\n",
    "\n",
    "to_str(20, 2)"
   ]
  },
  {
   "cell_type": "markdown",
   "metadata": {},
   "source": "## 二分查找"
  },
  {
   "cell_type": "code",
   "execution_count": 21,
   "metadata": {
    "trusted": true
   },
   "outputs": [
    {
     "data": {
      "text/plain": "True"
     },
     "execution_count": 21,
     "metadata": {},
     "output_type": "execute_result"
    }
   ],
   "source": [
    "def binary_search(a_list, target, low=0, high=0):\n",
    "    a_list.sort()\n",
    "    if low > high:  # 递归终止条件\n",
    "        return False\n",
    "    else:\n",
    "        mid = (low + high) // 2\n",
    "        if target == a_list[mid]:\n",
    "            return True\n",
    "        elif target < a_list[mid]:\n",
    "            return binary_search(a_list, target, low, mid - 1)\n",
    "        else:\n",
    "            return binary_search(a_list, target, mid + 1, high)\n",
    "\n",
    "\n",
    "binary_search([1, 56, 24, 98, 341, 658, 25, 125], 25, 0, 7)"
   ]
  },
  {
   "cell_type": "markdown",
   "metadata": {},
   "source": "## hanta问题"
  },
  {
   "cell_type": "code",
   "execution_count": 24,
   "metadata": {
    "trusted": true
   },
   "outputs": [
    {
     "name": "stdout",
     "output_type": "stream",
     "text": "a 移到 c\na 移到 b\nc 移到 b\na 移到 c\nb 移到 a\nb 移到 c\na 移到 c\n"
    }
   ],
   "source": [
    "def hannuota(n, A, B, C):\n",
    "    if n == 1:\n",
    "        print(A, \"移到\", C)\n",
    "    else:\n",
    "        hannuota(n - 1, A, C, B)\n",
    "        hannuota(1, A, B, C)\n",
    "        hannuota(n - 1, B, A, C)\n",
    "\n",
    "\n",
    "hannuota(3, \"a\", \"b\", \"c\")"
   ]
  },
  {
   "cell_type": "markdown",
   "metadata": {},
   "source": "## 栈的实现\n有is_empty, pop, top, push四个方法"
  },
  {
   "cell_type": "code",
   "execution_count": 31,
   "metadata": {
    "trusted": true
   },
   "outputs": [
    {
     "name": "stdout",
     "output_type": "stream",
     "text": "3\n1\n[1]\n"
    }
   ],
   "source": [
    "class ArrayStack:\n",
    "    def __init__(self):\n",
    "        self._data = []\n",
    "\n",
    "    def __str__(self):\n",
    "        return str(self._data)\n",
    "\n",
    "    def is_empty(self):\n",
    "        return len(self._data) == 0\n",
    "\n",
    "    def top(self):\n",
    "        if self.is_empty():\n",
    "            raise ValueError(\"Stack is empty\")\n",
    "        return self._data[-1]\n",
    "\n",
    "    def push(self, e):\n",
    "        self._data.append(e)\n",
    "\n",
    "    def pop(self):\n",
    "        if self.is_empty():\n",
    "            raise ValueError(\"Stack is empty\")\n",
    "        return self._data.pop()\n",
    "\n",
    "\n",
    "S = ArrayStack()\n",
    "S.push(1)\n",
    "S.push(3)\n",
    "print(S.pop())\n",
    "print(S.top())\n",
    "print(S)"
   ]
  },
  {
   "cell_type": "markdown",
   "metadata": {},
   "source": "## 检测括号是否合格"
  },
  {
   "cell_type": "code",
   "execution_count": 33,
   "metadata": {
    "trusted": true
   },
   "outputs": [
    {
     "data": {
      "text/plain": "True"
     },
     "execution_count": 33,
     "metadata": {},
     "output_type": "execute_result"
    }
   ],
   "source": [
    "def is_matched(a_str):\n",
    "    left = \"{([\"\n",
    "    right = \"})]\"\n",
    "    S = ArrayStack()\n",
    "    for a in a_str:\n",
    "        if a in left:\n",
    "            S.push(a)\n",
    "        else:\n",
    "            if right.index(a) == left.index(S.pop()):\n",
    "                continue\n",
    "            else:\n",
    "                return False\n",
    "    return S.is_empty()\n",
    "\n",
    "\n",
    "is_matched(\"({}())\")"
   ]
  },
  {
   "cell_type": "markdown",
   "metadata": {},
   "source": "## 检测html标签是否正确"
  },
  {
   "cell_type": "code",
   "execution_count": 40,
   "metadata": {
    "trusted": true
   },
   "outputs": [
    {
     "data": {
      "text/plain": "True"
     },
     "execution_count": 40,
     "metadata": {},
     "output_type": "execute_result"
    }
   ],
   "source": [
    "def is_matched_html(html):\n",
    "    S = ArrayStack()\n",
    "    left = html.find(\"<\")\n",
    "    while left != -1:\n",
    "        right = html.find(\">\", left + 1)\n",
    "        if right == -1:\n",
    "            return False\n",
    "        tag = html[left + 1 : right]\n",
    "        if not tag.startswith(\"/\"):\n",
    "            S.push(tag)\n",
    "        else:\n",
    "            if S.is_empty():\n",
    "                return False\n",
    "            if tag[1:] != S.pop():\n",
    "                return False\n",
    "        left = html.find(\"<\", right + 1)\n",
    "    return True\n",
    "\n",
    "\n",
    "is_matched_html(\"<h1>ada</h1>\")"
   ]
  },
  {
   "cell_type": "markdown",
   "metadata": {},
   "source": "## 十进制转换成任意进制的代码，栈实现"
  },
  {
   "cell_type": "code",
   "execution_count": 51,
   "metadata": {
    "trusted": true
   },
   "outputs": [
    {
     "data": {
      "text/plain": "'10100'"
     },
     "execution_count": 51,
     "metadata": {},
     "output_type": "execute_result"
    }
   ],
   "source": [
    "def to_str(num, n):\n",
    "    convert_string = \"0123456789ABCDEF\"\n",
    "    S = ArrayStack()\n",
    "    while num > 0:\n",
    "        S.push(convert_string[num % n])\n",
    "        num = num // n\n",
    "    result = \"\"\n",
    "    while not S.is_empty():\n",
    "        result = result + S.pop()\n",
    "    return result\n",
    "\n",
    "\n",
    "to_str(20, 2)"
   ]
  },
  {
   "cell_type": "markdown",
   "metadata": {},
   "source": "## 队列实现，双端队列"
  },
  {
   "cell_type": "code",
   "execution_count": 52,
   "metadata": {
    "trusted": true
   },
   "outputs": [],
   "source": [
    "class Deque:\n",
    "    def __init__(self):\n",
    "        self.data = []\n",
    "\n",
    "    def __len__(self):\n",
    "        return len(self.data)\n",
    "\n",
    "    def is_empty(self):\n",
    "        return len(self.data) == 0\n",
    "\n",
    "    def add_first(self, e):\n",
    "        self.data.insert(0, e)\n",
    "\n",
    "    def add_last(self, e):\n",
    "        self.data.append(e)\n",
    "\n",
    "    def delet_first(self):\n",
    "        if self.is_empty():\n",
    "            raise Empty(\"Deque is Empty\")\n",
    "        return self.data.pop(0)\n",
    "\n",
    "    def delet_last(self):\n",
    "        if self.is_empty():\n",
    "            raise Empty(\"Deque is Empty\")\n",
    "        return self.data.pop()\n",
    "\n",
    "    def last(self):\n",
    "        if self.is_empty():\n",
    "            raise Empty(\"Deque is Empty\")\n",
    "        return self.data[-1]\n",
    "\n",
    "    def first(self):\n",
    "        if self.is_empty():\n",
    "            raise Empty(\"Deque is Empty\")\n",
    "        return self.data[0]\n",
    "\n",
    "\n",
    "D = Deque()\n",
    "D.add_first(1)\n",
    "D.add_first(3)\n",
    "D.add_last(5)"
   ]
  },
  {
   "cell_type": "markdown",
   "metadata": {},
   "source": "## 传土豆队列实现"
  },
  {
   "cell_type": "code",
   "execution_count": 55,
   "metadata": {
    "trusted": true
   },
   "outputs": [
    {
     "name": "stdout",
     "output_type": "stream",
     "text": "Bill\n"
    }
   ],
   "source": [
    "def hot_potato(name_list, n):\n",
    "    Q = Deque()\n",
    "    for name in name_list:\n",
    "        Q.add_last(name)\n",
    "\n",
    "    while len(Q) > 1:\n",
    "        for _ in range(n):\n",
    "            Q.add_last(Q.delet_last())\n",
    "        Q.delet_last()\n",
    "    return Q.delet_last()\n",
    "\n",
    "\n",
    "name_list = [\"Bill\", \"David\", \"Susan\", \"Jane\", \"Kent\", \"Bard\"]\n",
    "num = 6\n",
    "win = hot_potato(name_list, num)\n",
    "print(win)"
   ]
  },
  {
   "cell_type": "markdown",
   "metadata": {},
   "source": "## 回文检测器"
  },
  {
   "cell_type": "code",
   "execution_count": 59,
   "metadata": {
    "trusted": true
   },
   "outputs": [
    {
     "data": {
      "text/plain": "True"
     },
     "execution_count": 59,
     "metadata": {},
     "output_type": "execute_result"
    }
   ],
   "source": [
    "def palchecker(a_str):\n",
    "    all_num = len(a_str) // 2\n",
    "    D = Deque()\n",
    "    for i in range(all_num):\n",
    "        D.add_first(a_str[i])\n",
    "        D.add_last(a_str[len(a_str) - i - 1])\n",
    "    while not D.is_empty():\n",
    "        if D.delet_last() == D.delet_first():\n",
    "            continue\n",
    "        else:\n",
    "            return False\n",
    "    return True\n",
    "\n",
    "\n",
    "palchecker(\"上海自来水来自海上\")"
   ]
  },
  {
   "cell_type": "markdown",
   "metadata": {},
   "source": "## 二分查找循环实现"
  },
  {
   "cell_type": "code",
   "execution_count": 61,
   "metadata": {
    "trusted": true
   },
   "outputs": [
    {
     "data": {
      "text/plain": "True"
     },
     "execution_count": 61,
     "metadata": {},
     "output_type": "execute_result"
    }
   ],
   "source": [
    "def binary_search(a_list, item):\n",
    "    first = 0\n",
    "    last = len(a_list) - 1\n",
    "    found = False\n",
    "    while first <= last and not found:\n",
    "        mid = (first + last) // 2\n",
    "        if item == a_list[mid]:\n",
    "            found = True\n",
    "        elif item < a_list[mid]:\n",
    "            last = mid - 1\n",
    "        else:\n",
    "            first = mid + 1\n",
    "    return found\n",
    "\n",
    "\n",
    "binary_search([1, 3, 5, 6, 8, 9, 10], 5)"
   ]
  },
  {
   "cell_type": "markdown",
   "metadata": {},
   "source": "## 冒泡排序"
  },
  {
   "cell_type": "code",
   "execution_count": 64,
   "metadata": {
    "trusted": true
   },
   "outputs": [
    {
     "data": {
      "text/plain": "[1, 7, 24, 34, 34, 79]"
     },
     "execution_count": 64,
     "metadata": {},
     "output_type": "execute_result"
    }
   ],
   "source": [
    "def bubble_sort(a_list):\n",
    "    for i in range(len(a_list) - 1, 0, -1):\n",
    "        for j in range(i):\n",
    "            if a_list[j] > a_list[j + 1]:\n",
    "                a_list[j], a_list[j + 1] = a_list[j + 1], a_list[j]\n",
    "    return a_list\n",
    "\n",
    "\n",
    "bubble_sort([1, 34, 7, 24, 79, 34])"
   ]
  },
  {
   "cell_type": "markdown",
   "metadata": {},
   "source": "## 选择排序"
  },
  {
   "cell_type": "code",
   "execution_count": 68,
   "metadata": {
    "trusted": true
   },
   "outputs": [
    {
     "data": {
      "text/plain": "[0, 1, 1, 6, 8, 41, 45, 5352]"
     },
     "execution_count": 68,
     "metadata": {},
     "output_type": "execute_result"
    }
   ],
   "source": [
    "def selection_sort(a_list):\n",
    "    for i in range(len(a_list) - 1, 0, -1):\n",
    "        max_position = 0\n",
    "        for j in range(\n",
    "            1, i + 1\n",
    "        ):  # 除了最大位置和冒泡排序不一样，这里也不一样，意思是对比每个元素大小\n",
    "            if a_list[j] > a_list[max_position]:\n",
    "                max_position = j\n",
    "        a_list[max_position], a_list[i] = a_list[i], a_list[max_position]\n",
    "    return a_list\n",
    "\n",
    "\n",
    "selection_sort([1, 41, 45, 6, 8, 1, 5352, 0])"
   ]
  },
  {
   "cell_type": "markdown",
   "metadata": {},
   "source": "## 插入排序"
  },
  {
   "cell_type": "code",
   "execution_count": 74,
   "metadata": {
    "trusted": true
   },
   "outputs": [
    {
     "data": {
      "text/plain": "[5, 6, 11, 14, 24, 91, 414]"
     },
     "execution_count": 74,
     "metadata": {},
     "output_type": "execute_result"
    }
   ],
   "source": [
    "def insertion_sort(a_list):\n",
    "    for i in range(1, len(a_list)):\n",
    "        current_value = a_list[i]\n",
    "        position = i\n",
    "        while position > 0 and a_list[position - 1] > current_value:\n",
    "            a_list[position] = a_list[position - 1]\n",
    "            position -= 1\n",
    "        a_list[position] = current_value\n",
    "    return a_list\n",
    "\n",
    "\n",
    "insertion_sort([11, 24, 5, 6, 14, 414, 91])"
   ]
  }
 ],
 "metadata": {
  "kernelspec": {
   "display_name": "Python (Pyodide)",
   "language": "python",
   "name": "python"
  },
  "language_info": {
   "codemirror_mode": {
    "name": "python",
    "version": 3
   },
   "file_extension": ".py",
   "mimetype": "text/x-python",
   "name": "python",
   "nbconvert_exporter": "python",
   "pygments_lexer": "ipython3",
   "version": "3.8"
  }
 },
 "nbformat": 4,
 "nbformat_minor": 4
}